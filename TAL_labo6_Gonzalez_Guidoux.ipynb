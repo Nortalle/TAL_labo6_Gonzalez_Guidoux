{
 "cells": [
  {
   "cell_type": "markdown",
   "metadata": {},
   "source": [
    "# Labo 6 : désambiguïsation lexicale (Word Sense Disambiguation)\n",
    "Par Vincent Guidoux et Nathan Gonzalez Montes"
   ]
  },
  {
   "cell_type": "markdown",
   "metadata": {},
   "source": [
    "## Objectif et informations"
   ]
  },
  {
   "cell_type": "markdown",
   "metadata": {},
   "source": [
    "Comparer deux méthodes de désambiguïsation du sens des mots en contexte (tâche notée WSD), l’une utilisant l’algorithme de Lesk simplifié, et l’autre utilisant word2vec.\n",
    "\n",
    "Le labo utilisera une ressource contenant 2'369 occurrences du mot anglais « interest » annotées chacune avec le sens du mot dans le contexte respectif. Chacune des deux méthodes fonctionne selon le même principe général : comparer le contexte de l’occurrence avec les définitions des sens, et choisir la définition la plus proche. L’algorithme de Lesk définit la proximité comme le nombre de mots en commun, alors que word2vec peut la calculer comme la similarité de deux vecteurs (somme des vecteurs de mots).\n",
    "\n",
    "Dans une première approche, qui ne nécessite pas de programmation, on vous demande de comparer une occurrence de chaque sens. Dans une seconde approche, qui nécessite un peu de programmation en Python, vous évaluerez les deux systèmes sur l’ensemble des 2'369 occurrences."
   ]
  },
  {
   "cell_type": "markdown",
   "metadata": {},
   "source": [
    "## Étapes"
   ]
  },
  {
   "cell_type": "markdown",
   "metadata": {},
   "source": [
    "### 1. Le fichier de données se trouve à http://www.d.umn.edu/~tpederse/data.html – chercher « interest » vers la fin de la page, et prendre le fichier marqué « original format without POS tags ». Quel est le format de ce fichier et comment sont annotés les sens ?"
   ]
  },
  {
   "cell_type": "markdown",
   "metadata": {},
   "source": [
    "Le fichier est au format texte.\n",
    "\n",
    "Le sens **1** d'_interest_ sera noté `interest_1`, le sens **2** d'_interest_ sera noté `interest_2`, etc.."
   ]
  },
  {
   "cell_type": "markdown",
   "metadata": {},
   "source": [
    "### 2. Bien lire le fichier README associé. Quelles sont les définitions des six sens de « interest » annotées dans les données ? De quel dictionnaire viennent-elles ? Où se trouve-t-il en ligne ?"
   ]
  },
  {
   "cell_type": "markdown",
   "metadata": {},
   "source": [
    "1. Readiness to give attention\n",
    "2. Quality of causing attention to be given to\n",
    "3. Activity, etc. that one gives attention to\n",
    "4. Advantage, advancement or favor\n",
    "5. A share in a company or business\n",
    "6. Money paid for the use of money\n",
    "\n",
    "Du dictionnaire LDOCE. Ici: [Longman Dictionary of Contemporary English | LDOCE\n",
    "](https://www.ldoceonline.com/)\n"
   ]
  },
  {
   "cell_type": "markdown",
   "metadata": {},
   "source": [
    "### 3. Consulter WordNet en ligne et identifier les définitions correspondant aux six sens annotés dans les données. En les combinant éventuellement avec les résultats du (2), écrivez une liste de mots « pleins » (i.e. sans stopwords) pour chaque définition."
   ]
  },
  {
   "cell_type": "markdown",
   "metadata": {},
   "source": [
    "### Noun\n",
    "\n",
    "1. A sense of concern with and curiosity about someone or something, **involvement**: *\"an interest in music\"*\n",
    "\n",
    "2. The power of attracting or holding one's attention (because it is unusual or exciting etc.), **interestingness**: *\"they said nothing of great interest\"; \"primary colors can add interest to a room\"e or something) \"an interest in music\"*\n",
    "\n",
    "3. A diversion that occupies one's time and thoughts (usually pleasantly), **pastime, pursuit**: *\"sailing is her favorite pastime\"; \"his main pastime is gambling\"; \"he counts reading among his interests\"; \"they criticized the boy for his limited pursuits\"*\n",
    "\n",
    "4. A reason for wanting something done, **sake**: *\"for your sake\"; \"died for the sake of his country\"; \"in the interest of safety\"; \"in the common interest\"*\n",
    "\n",
    "5. (law) A right or legal share of something; a financial involvement with something, **stake**: *\"they have interests all over the world\"; \"a stake in the company's future\"*\n",
    "\n",
    "6. A fixed charge for borrowing money; usually a percentage of the amount borrowed: *\"how much interest do you pay on your mortgage?\"*\n",
    "\n",
    "(usually plural) a social group whose members control some field of activity and who have common aims, interest group: *\"the iron interests stepped up production\"*\n",
    "\n",
    "### Verb\n",
    "\n",
    "Excite the curiosity of; engage the interest of\n",
    "\n",
    "**Concern, occupy, worry**, be on the mind of: \"I worry about the second Germanic consonant shift\"\n",
    "\n",
    "**Matter to**, be of importance or consequence: \"This matters to me!\"\n",
    "\n",
    "1. Readiness, give, attention, sense, concern, curiosity, someone, something, involvement\n",
    "2. Qualitiy, causing, attraction, be, given, power, attracting, holding, one's, attention, because, unusual, exciting\n",
    "3. Activity, one, gives, attention, diversion, occupies, one's, time, thoughts, usually, pleasantly, pastime, pursuit\n",
    "\n",
    "Liste de mots plein :\n",
    "\n",
    "1. \"readiness, give, attention, sense, concern, curiosity, someone, something, involvement\"\n",
    "2. \"qualitiy, causing, attraction, be, given, power, attracting, holding, one, attention, because, unusual, exciting\"\n",
    "3. \"activity, one, gives, attention, diversion, occupies, one, time, thought, usually, pleasantly, pastime, pursuit\"\n",
    "4. \"reason wanting something do sake die sake country interest safety common interest advantage advancement favor\"\n",
    "5. \"law right legal share something financial involvement something stake they have interest world stake company future share company business\"\n",
    "6. \"fixed charge for borrowing money usually percentage amount borrowed interest pay mortgage social group members control field activity have common aims interest group iron interests stepped up production money paid use money\""
   ]
  },
  {
   "cell_type": "markdown",
   "metadata": {},
   "source": [
    "### 4. Considérez la première occurrence de « interest » dans les données, et notez les mots « pleins » qui entourent « interest » (p.ex. toute la phrase). Combien de mots y’a-t-il en commun avec chacune des six définitions ? Quel est donc le sens le plus probable ?"
   ]
  },
  {
   "cell_type": "code",
   "execution_count": 1,
   "metadata": {},
   "outputs": [],
   "source": [
    "first_occurance = \"yield, money, market, mutual, fund, continue, slide, amid, sign, portfolio, manager, expect, further, decline, rates\"\n",
    "first_occurance = first_occurance.split(\", \")\n",
    "\n",
    "stop_word_1 = \"readiness, give, attention, sense, concern, curiosity, someone, something, involvement\"\n",
    "stop_word_1 = stop_word_1.split(\", \")\n",
    "\n",
    "stop_word_2 = \"quality, causing, attraction, be, given, power, attracting, holding, one, attention, because, unusual, exciting\"\n",
    "stop_word_2 = stop_word_2.split(\", \")\n",
    "\n",
    "stop_word_3 = \"activity, one, gives, attention, diversion, occupies, one, time, thought, usually, pleasantly, pastime, pursuit\"\n",
    "stop_word_3 = stop_word_3.split(\", \")\n",
    "\n",
    "stop_word_4 = \"reason wanting something do sake die sake country interest safety common interest advantage advancement favor\"\n",
    "stop_word_4 = stop_word_4.split(\" \")\n",
    "\n",
    "stop_word_5 = \"law right legal share something financial involvement something stake they have interest world stake company future share company business\"\n",
    "stop_word_5 = stop_word_5.split(\" \")\n",
    "\n",
    "stop_word_6 = \"fixed charge for borrowing money usually percentage amount borrowed interest pay mortgage social group members control field activity have common aims interest group iron interests stepped up production money paid use money\"\n",
    "stop_word_6 = stop_word_6.split(\" \")"
   ]
  },
  {
   "cell_type": "code",
   "execution_count": 2,
   "metadata": {},
   "outputs": [],
   "source": [
    "def scoring(list_input, list_does_contains):\n",
    "    score = 0\n",
    "\n",
    "    for word in list_input:\n",
    "        if word in list_does_contains:\n",
    "            score = score + 1\n",
    "    return score    "
   ]
  },
  {
   "cell_type": "code",
   "execution_count": 3,
   "metadata": {},
   "outputs": [
    {
     "name": "stdout",
     "output_type": "stream",
     "text": [
      "score comparaison avec la définition 1 :  0\n",
      "score comparaison avec la définition 2 :  0\n",
      "score comparaison avec la définition 3 :  0\n",
      "score comparaison avec la définition 4 :  0\n",
      "score comparaison avec la définition 5 :  0\n",
      "score comparaison avec la définition 6 :  1\n"
     ]
    }
   ],
   "source": [
    "print(\"score comparaison avec la définition 1 : \", scoring(first_occurance, stop_word_1))\n",
    "print(\"score comparaison avec la définition 2 : \", scoring(first_occurance, stop_word_2))\n",
    "print(\"score comparaison avec la définition 3 : \", scoring(first_occurance, stop_word_3))\n",
    "print(\"score comparaison avec la définition 4 : \", scoring(first_occurance, stop_word_4))\n",
    "print(\"score comparaison avec la définition 5 : \", scoring(first_occurance, stop_word_5))\n",
    "print(\"score comparaison avec la définition 6 : \", scoring(first_occurance, stop_word_6))"
   ]
  },
  {
   "cell_type": "markdown",
   "metadata": {},
   "source": [
    "Il n'y a qu'un mot commun, et c'est avec la définition bonne définition, nous avons eu de la chance"
   ]
  },
  {
   "cell_type": "markdown",
   "metadata": {},
   "source": [
    "### 5. En réutilisant le modèle de word2vec entraîné sur Google News fourni par Gensim, calculer les similarités (cosinus) entre les mots du contexte de la première occurrence (somme(ou moyenne) des vecteurs de chaque mot) et chacune des six définitions. Quel est donc le sens le plus probable ?"
   ]
  },
  {
   "cell_type": "markdown",
   "metadata": {},
   "source": [
    "**Suggestion** : chercher dans la documentation word2vec comment obtenir très facilement la similarité entre deux ensembles de mots."
   ]
  },
  {
   "cell_type": "code",
   "execution_count": 4,
   "metadata": {},
   "outputs": [],
   "source": [
    "import numpy\n",
    "import nltk\n",
    "import time\n",
    "from gensim.test.utils import common_texts\n",
    "from gensim.models import Word2Vec\n",
    "from gensim.test.utils import get_tmpfile\n",
    "from gensim.models import KeyedVectors\n",
    "from gensim.test.utils import datapath\n",
    "\n",
    "w2v_vectors = KeyedVectors.load_word2vec_format(\"word2vec-google-news-300.gz\", binary=True)"
   ]
  },
  {
   "cell_type": "code",
   "execution_count": 5,
   "metadata": {},
   "outputs": [
    {
     "name": "stdout",
     "output_type": "stream",
     "text": [
      "similarité entre la définition 1 et la première occurance de interest : 0.3602687418460846\n",
      "similarité entre la définition 2 et la première occurance de interest : 0.43276703357696533\n",
      "similarité entre la définition 3 et la première occurance de interest : 0.32915887236595154\n",
      "similarité entre la définition 4 et la première occurance de interest : 0.4701043665409088\n",
      "similarité entre la définition 5 et la première occurance de interest : 0.5618512034416199\n",
      "similarité entre la définition 6 et la première occurance de interest : 0.6260374784469604\n"
     ]
    }
   ],
   "source": [
    "definitions = [stop_word_1, stop_word_2, stop_word_3, stop_word_4, stop_word_5, stop_word_6]\n",
    "\n",
    "i = 1\n",
    "for definition in definitions:\n",
    "    print(\"similarité entre la définition {} et la première occurance de interest : {}\".format(i,  w2v_vectors.n_similarity(first_occurance, definition)))\n",
    "    i += 1"
   ]
  },
  {
   "cell_type": "markdown",
   "metadata": {},
   "source": [
    "Le sens le plus probable est le 6 ! Youpi, c'est ce que nous voulions !"
   ]
  },
  {
   "cell_type": "markdown",
   "metadata": {},
   "source": [
    "### 6. Approche manuelle : appliquer la procédure précédente à une occurrence de « interest » pour chaque sens possible (six sens, donc six mots). Combien sur les six sont correctement désambiguïsés par l’algorithme de Lesk, et combien par la méthode word2vec ?"
   ]
  },
  {
   "cell_type": "code",
   "execution_count": 6,
   "metadata": {},
   "outputs": [],
   "source": [
    "interest_1 = \"the purchases  show  the strong interest_1  of  japanese investors  in  US mortgage-based instruments  ,  fannie mae 's chairman  ,  david maxwell  , said at  a news conference\"\n",
    "\n",
    "interest_2 = \"abc 's baseball experience  may be of  interest_2  to  cbs inc.  ,  which   next season  takes over  the broadcasting  of  all baseball playoffs  in  a four-year television contract  priced at  $ billion  .\"\n",
    "\n",
    "interest_3 = \"blue-chip advertisers  have  plenty  of  complaints  about  the magazines they  advertise in , ranging from  inadequate consumer research  to  ad  clutter and  a  seemingly  unchecked proliferation  of  special interest_3 magazines  .\"\n",
    "\n",
    "interest_4 = \"insofar as  mister  has  a special interest_4  in  nih  and  the institutions   that  receive  its  funding ,  the rockefeller scientists  were  no doubt  discomfited by  doctor baltimore 's unflattering public opinion  of  this congressional patron  ,  whose behavior  reminded  doctor baltimore  of  the mccarthy era  .\"\n",
    "\n",
    "interest_5 = \"the spokesman  refused to comment on  speculation  that  industrial equity  might use  its interest_5  as  a platform  to launch  a hostile bid  for  the company  .\"\n",
    "\n",
    "interest_6 = \"indeed ,  the banker  says , in  the reborn capital structure cash coverage  of  interest_6  will meaningfully improve .\"\n",
    "\n",
    "interests = [interest_1, interest_2, interest_3, interest_4, interest_5, interest_6]"
   ]
  },
  {
   "cell_type": "code",
   "execution_count": 7,
   "metadata": {},
   "outputs": [
    {
     "name": "stderr",
     "output_type": "stream",
     "text": [
      "[nltk_data] Downloading package stopwords to\n",
      "[nltk_data]     C:\\Users\\Nortalle\\AppData\\Roaming\\nltk_data...\n",
      "[nltk_data]   Package stopwords is already up-to-date!\n"
     ]
    }
   ],
   "source": [
    "from nltk.corpus import stopwords\n",
    "from nltk.tokenize import word_tokenize\n",
    "nltk.download('stopwords')\n",
    "\n",
    "def remove_stop_words(data):\n",
    "    stopWords = set(stopwords.words('english'))\n",
    "    stopWords.add(',')\n",
    "    stopWords.add('.')\n",
    "    stopWords.add('\\'s')\n",
    "    stopWords.add(' ')\n",
    "    stopWords.add('')\n",
    "    stopWords.add('interest_1')\n",
    "    stopWords.add('interest_2')\n",
    "    stopWords.add('interest_3')\n",
    "    stopWords.add('interest_4')\n",
    "    stopWords.add('interest_5')\n",
    "    stopWords.add('interest_6')\n",
    "    words = word_tokenize(data)\n",
    "    wordsFiltered = []\n",
    "\n",
    "    for w in words:\n",
    "        if w not in stopWords:\n",
    "            wordsFiltered.append(w)\n",
    "    \n",
    "    return wordsFiltered"
   ]
  },
  {
   "cell_type": "code",
   "execution_count": 8,
   "metadata": {},
   "outputs": [
    {
     "name": "stdout",
     "output_type": "stream",
     "text": [
      "\n",
      "----------------\n",
      "\n",
      "similarité entre la définition 1 et la première occurance de interest_1 : 0.27453291416168213\n",
      "similarité entre la définition 2 et la première occurance de interest_1 : 0.2764383852481842\n",
      "similarité entre la définition 3 et la première occurance de interest_1 : 0.24493561685085297\n",
      "similarité entre la définition 4 et la première occurance de interest_1 : 0.37814393639564514\n",
      "similarité entre la définition 5 et la première occurance de interest_1 : 0.44304901361465454\n",
      "similarité entre la définition 6 et la première occurance de interest_1 : 0.48168566823005676\n",
      "\n",
      "----------------\n",
      "\n",
      "similarité entre la définition 1 et la première occurance de interest_2 : 0.30380669236183167\n",
      "similarité entre la définition 2 et la première occurance de interest_2 : 0.37916818261146545\n",
      "similarité entre la définition 3 et la première occurance de interest_2 : 0.39943939447402954\n",
      "similarité entre la définition 4 et la première occurance de interest_2 : 0.37331798672676086\n",
      "similarité entre la définition 5 et la première occurance de interest_2 : 0.45690590143203735\n",
      "similarité entre la définition 6 et la première occurance de interest_2 : 0.5006052255630493\n",
      "\n",
      "----------------\n",
      "\n",
      "similarité entre la définition 1 et la première occurance de interest_3 : 0.3987971842288971\n",
      "similarité entre la définition 2 et la première occurance de interest_3 : 0.4227665066719055\n",
      "similarité entre la définition 3 et la première occurance de interest_3 : 0.42213523387908936\n",
      "similarité entre la définition 4 et la première occurance de interest_3 : 0.36772918701171875\n",
      "similarité entre la définition 5 et la première occurance de interest_3 : 0.41690850257873535\n",
      "similarité entre la définition 6 et la première occurance de interest_3 : 0.4979081153869629\n",
      "\n",
      "----------------\n",
      "\n",
      "similarité entre la définition 1 et la première occurance de interest_4 : 0.5013031363487244\n",
      "similarité entre la définition 2 et la première occurance de interest_4 : 0.43329182267189026\n",
      "similarité entre la définition 3 et la première occurance de interest_4 : 0.4820556342601776\n",
      "similarité entre la définition 4 et la première occurance de interest_4 : 0.48743167519569397\n",
      "similarité entre la définition 5 et la première occurance de interest_4 : 0.43203267455101013\n",
      "similarité entre la définition 6 et la première occurance de interest_4 : 0.46599218249320984\n",
      "\n",
      "----------------\n",
      "\n",
      "similarité entre la définition 1 et la première occurance de interest_5 : 0.4083986282348633\n",
      "similarité entre la définition 2 et la première occurance de interest_5 : 0.3704102635383606\n",
      "similarité entre la définition 3 et la première occurance de interest_5 : 0.31508776545524597\n",
      "similarité entre la définition 4 et la première occurance de interest_5 : 0.41105443239212036\n",
      "similarité entre la définition 5 et la première occurance de interest_5 : 0.5812490582466125\n",
      "similarité entre la définition 6 et la première occurance de interest_5 : 0.4948652684688568\n",
      "\n",
      "----------------\n",
      "\n",
      "similarité entre la définition 1 et la première occurance de interest_6 : 0.4018385112285614\n",
      "similarité entre la définition 2 et la première occurance de interest_6 : 0.43657660484313965\n",
      "similarité entre la définition 3 et la première occurance de interest_6 : 0.4201110303401947\n",
      "similarité entre la définition 4 et la première occurance de interest_6 : 0.44898509979248047\n",
      "similarité entre la définition 5 et la première occurance de interest_6 : 0.5807451605796814\n",
      "similarité entre la définition 6 et la première occurance de interest_6 : 0.5593186616897583\n"
     ]
    }
   ],
   "source": [
    "definitions = [stop_word_1, stop_word_2, stop_word_3, stop_word_4, stop_word_5, stop_word_6]\n",
    "\n",
    "i = 1\n",
    "for interest in interests:\n",
    "    print(\"\\n----------------\\n\")\n",
    "    \n",
    "    interest = interest.replace('-', ' ')\n",
    "    interest = remove_stop_words(interest)\n",
    "    \n",
    "    j = 1\n",
    "    for definition in definitions:\n",
    "        print(\"similarité entre la définition {} et la première occurance de interest_{} : {}\".format(j, i,  w2v_vectors.n_similarity(interest, definition)))\n",
    "        j += 1\n",
    "    i += 1"
   ]
  },
  {
   "cell_type": "markdown",
   "metadata": {},
   "source": [
    "### 7. Approche automatique : implémenter un court programme qui applique la méthode décrite ci-dessus à chacune des 2'369 occurrences de « interest » dans le corpus du test."
   ]
  },
  {
   "cell_type": "markdown",
   "metadata": {},
   "source": [
    "Il faut donc : extraire les mots voisins de chaque occurrence, compter le nombre de mots en commun avec chaque définition, et choisir le sens qui maximise ce nombre (Lesk) ; également, calculer la similarité word2vec entre le contexte et chaque définition, et choisir le sens qui la maximise."
   ]
  },
  {
   "cell_type": "markdown",
   "metadata": {},
   "source": []
  },
  {
   "cell_type": "markdown",
   "metadata": {},
   "source": [
    "Quelles sont les proportions respectives de bonnes réponses de Lesk et de word2vec ?\n",
    "Pouvez-vous les calculer également pour chaque catégorie ?"
   ]
  },
  {
   "cell_type": "markdown",
   "metadata": {},
   "source": [
    "### 8. Comment se comparent vos scores avec ceux publiés dans l’article de Pedersen (2000) disponible ici : http://www.aclweb.org/anthology/A00-2009 ?"
   ]
  },
  {
   "cell_type": "markdown",
   "metadata": {},
   "source": []
  },
  {
   "cell_type": "markdown",
   "metadata": {},
   "source": []
  },
  {
   "cell_type": "markdown",
   "metadata": {},
   "source": []
  },
  {
   "cell_type": "markdown",
   "metadata": {},
   "source": [
    "Merci d’envoyer votre notebook Jupyter par email au professeur et à l’assistant, avant le vendredi 17 mai à 23h59."
   ]
  },
  {
   "cell_type": "code",
   "execution_count": null,
   "metadata": {},
   "outputs": [],
   "source": []
  }
 ],
 "metadata": {
  "kernelspec": {
   "display_name": "Python 3",
   "language": "python",
   "name": "python3"
  },
  "language_info": {
   "codemirror_mode": {
    "name": "ipython",
    "version": 3
   },
   "file_extension": ".py",
   "mimetype": "text/x-python",
   "name": "python",
   "nbconvert_exporter": "python",
   "pygments_lexer": "ipython3",
   "version": "3.7.3"
  }
 },
 "nbformat": 4,
 "nbformat_minor": 2
}
