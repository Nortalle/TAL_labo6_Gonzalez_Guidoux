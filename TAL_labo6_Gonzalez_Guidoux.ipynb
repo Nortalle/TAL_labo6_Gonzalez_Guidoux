{
 "cells": [
  {
   "cell_type": "markdown",
   "metadata": {},
   "source": [
    "# Labo 6 : désambiguïsation lexicale (Word Sense Disambiguation)\n",
    "Par Vincent Guidoux et Nathan Gonzalez Montes"
   ]
  },
  {
   "cell_type": "markdown",
   "metadata": {},
   "source": [
    "## Objectif et informations"
   ]
  },
  {
   "cell_type": "markdown",
   "metadata": {},
   "source": [
    "Comparer deux méthodes de désambiguïsation du sens des mots en contexte (tâche notée WSD), l’une utilisant l’algorithme de Lesk simplifié, et l’autre utilisant word2vec.\n",
    "\n",
    "Le labo utilisera une ressource contenant 2'369 occurrences du mot anglais « interest » annotées chacune avec le sens du mot dans le contexte respectif. Chacune des deux méthodes fonctionne selon le même principe général : comparer le contexte de l’occurrence avec les définitions des sens, et choisir la définition la plus proche. L’algorithme de Lesk définit la proximité comme le nombre de mots en commun, alors que word2vec peut la calculer comme la similarité de deux vecteurs (somme des vecteurs de mots).\n",
    "\n",
    "Dans une première approche, qui ne nécessite pas de programmation, on vous demande de comparer une occurrence de chaque sens. Dans une seconde approche, qui nécessite un peu de programmation en Python, vous évaluerez les deux systèmes sur l’ensemble des 2'369 occurrences."
   ]
  },
  {
   "cell_type": "markdown",
   "metadata": {},
   "source": [
    "## Étapes"
   ]
  },
  {
   "cell_type": "markdown",
   "metadata": {},
   "source": [
    "### 1. Le fichier de données se trouve à http://www.d.umn.edu/~tpederse/data.html – chercher « interest » vers la fin de la page, et prendre le fichier marqué « original format without POS tags ». Quel est le format de ce fichier et comment sont annotés les sens ?"
   ]
  },
  {
   "cell_type": "markdown",
   "metadata": {},
   "source": [
    "Le fichier est au format texte.\n",
    "\n",
    "Le sens **1** d'_interest_ sera noté `interest_1`, le sens **2** d'_interest_ sera noté `interest_2`, etc.."
   ]
  },
  {
   "cell_type": "markdown",
   "metadata": {},
   "source": [
    "### 2. Bien lire le fichier README associé. Quelles sont les définitions des six sens de « interest » annotées dans les données ? De quel dictionnaire viennent-elles ? Où se trouve-t-il en ligne ?"
   ]
  },
  {
   "cell_type": "markdown",
   "metadata": {},
   "source": [
    "1. Readiness to give attention\n",
    "2. Quality of causing attention to be given to\n",
    "3. Activity, etc. that one gives attention to\n",
    "4. Advantage, advancement or favor\n",
    "5. A share in a company or business\n",
    "6. Money paid for the use of money\n",
    "\n",
    "Du dictionnaire LDOCE. Ici: [Longman Dictionary of Contemporary English | LDOCE\n",
    "](https://www.ldoceonline.com/)\n"
   ]
  },
  {
   "cell_type": "markdown",
   "metadata": {},
   "source": [
    "### 3. Consulter WordNet en ligne et identifier les définitions correspondant aux six sens annotés dans les données. En les combinant éventuellement avec les résultats du (2), écrivez une liste de mots « pleins » (i.e. sans stopwords) pour chaque définition."
   ]
  },
  {
   "cell_type": "markdown",
   "metadata": {},
   "source": [
    "### Noun\n",
    "\n",
    "1. A sense of concern with and curiosity about someone or something, **involvement**: *\"an interest in music\"*\n",
    "\n",
    "2. The power of attracting or holding one's attention (because it is unusual or exciting etc.), **interestingness**: *\"they said nothing of great interest\"; \"primary colors can add interest to a room\"e or something) \"an interest in music\"*\n",
    "\n",
    "3. A diversion that occupies one's time and thoughts (usually pleasantly), **pastime, pursuit**: *\"sailing is her favorite pastime\"; \"his main pastime is gambling\"; \"he counts reading among his interests\"; \"they criticized the boy for his limited pursuits\"*\n",
    "\n",
    "4. A reason for wanting something done, **sake**: *\"for your sake\"; \"died for the sake of his country\"; \"in the interest of safety\"; \"in the common interest\"*\n",
    "\n",
    "5. (law) A right or legal share of something; a financial involvement with something, **stake**: *\"they have interests all over the world\"; \"a stake in the company's future\"*\n",
    "\n",
    "6. A fixed charge for borrowing money; usually a percentage of the amount borrowed: *\"how much interest do you pay on your mortgage?\"*\n",
    "\n",
    "(usually plural) a social group whose members control some field of activity and who have common aims, interest group: *\"the iron interests stepped up production\"*\n",
    "\n",
    "### Verb\n",
    "\n",
    "Excite the curiosity of; engage the interest of\n",
    "\n",
    "**Concern, occupy, worry**, be on the mind of: \"I worry about the second Germanic consonant shift\"\n",
    "\n",
    "**Matter to**, be of importance or consequence: \"This matters to me!\"\n",
    "\n",
    "1. Readiness, give, attention, sense, concern, curiosity, someone, something, involvement\n",
    "2. Qualitiy, causing, attraction, be, given, power, attracting, holding, one's, attention, because, unusual, exciting\n",
    "3. Activity, one, gives, attention, diversion, occupies, one's, time, thoughts, usually, pleasantly, pastime, pursuit\n",
    "\n",
    "Liste de mots plein :\n",
    "\n",
    "1. \"readiness, give, attention, sense, concern, curiosity, someone, something, involvement\"\n",
    "2. \"qualitiy, causing, attraction, be, given, power, attracting, holding, one, attention, because, unusual, exciting\"\n",
    "3. \"activity, one, gives, attention, diversion, occupies, one, time, thought, usually, pleasantly, pastime, pursuit\"\n",
    "4. \"reason wanting something do sake die sake country interest safety common interest advantage advancement favor\"\n",
    "5. \"law right legal share something financial involvement something stake they have interest world stake company future share company business\"\n",
    "6. \"fixed charge for borrowing money usually percentage amount borrowed interest pay mortgage social group members control field activity have common aims interest group iron interests stepped up production money paid use money\""
   ]
  },
  {
   "cell_type": "markdown",
   "metadata": {},
   "source": [
    "### 4. Considérez la première occurrence de « interest » dans les données, et notez les mots « pleins » qui entourent « interest » (p.ex. toute la phrase). Combien de mots y’a-t-il en commun avec chacune des six définitions ? Quel est donc le sens le plus probable ?"
   ]
  },
  {
   "cell_type": "code",
   "execution_count": 9,
   "metadata": {
    "collapsed": true
   },
   "outputs": [],
   "source": [
    "first_occurance = \"yield, money, market, mutual, fund, continue, slide, amid, sign, portfolio, manager, expect, further, decline, rates\"\n",
    "first_occurance = first_occurance.split(\", \")\n",
    "\n",
    "definition_1 = \"readiness, give, attention, sense, concern, curiosity, someone, something, involvement\"\n",
    "definition_1 = definition_1.split(\", \")\n",
    "\n",
    "definition_2 = \"quality, causing, attraction, be, given, power, attracting, holding, one, attention, because, unusual, exciting\"\n",
    "definition_2 = definition_2.split(\", \")\n",
    "\n",
    "definition_3 = \"activity, one, gives, attention, diversion, occupies, one, time, thought, usually, pleasantly, pastime, pursuit\"\n",
    "definition_3 = definition_3.split(\", \")\n",
    "\n",
    "definition_4 = \"reason wanting something do sake die sake country interest safety common interest advantage advancement favor\"\n",
    "definition_4 = definition_4.split(\" \")\n",
    "\n",
    "definition_5 = \"law right legal share something financial involvement something stake they have interest world stake company future share company business\"\n",
    "definition_5 = definition_5.split(\" \")\n",
    "\n",
    "definition_6 = \"fixed charge for borrowing money usually percentage amount borrowed interest pay mortgage social group members control field activity have common aims interest group iron interests stepped up production money paid use money\"\n",
    "definition_6 = definition_6.split(\" \")"
   ]
  },
  {
   "cell_type": "code",
   "execution_count": 10,
   "metadata": {
    "collapsed": true
   },
   "outputs": [],
   "source": [
    "def scoring(list_input, list_does_contains):\n",
    "    score = 0\n",
    "\n",
    "    for word in list_input:\n",
    "        if word in list_does_contains:\n",
    "            score = score + 1\n",
    "    return score    "
   ]
  },
  {
   "cell_type": "code",
   "execution_count": 11,
   "metadata": {},
   "outputs": [
    {
     "name": "stdout",
     "output_type": "stream",
     "text": [
      "Score comparaison avec la définition 1 :  0\n",
      "Score comparaison avec la définition 2 :  0\n",
      "Score comparaison avec la définition 3 :  0\n",
      "Score comparaison avec la définition 4 :  0\n",
      "Score comparaison avec la définition 5 :  0\n",
      "Score comparaison avec la définition 6 :  1\n"
     ]
    }
   ],
   "source": [
    "print(\"Score comparaison avec la définition 1 : \", scoring(first_occurance, definition_1))\n",
    "print(\"Score comparaison avec la définition 2 : \", scoring(first_occurance, definition_2))\n",
    "print(\"Score comparaison avec la définition 3 : \", scoring(first_occurance, definition_3))\n",
    "print(\"Score comparaison avec la définition 4 : \", scoring(first_occurance, definition_4))\n",
    "print(\"Score comparaison avec la définition 5 : \", scoring(first_occurance, definition_5))\n",
    "print(\"Score comparaison avec la définition 6 : \", scoring(first_occurance, definition_6))"
   ]
  },
  {
   "cell_type": "markdown",
   "metadata": {},
   "source": [
    "Il n'y a qu'un mot commun, et c'est avec la définition bonne définition, nous avons eu de la chance"
   ]
  },
  {
   "cell_type": "markdown",
   "metadata": {},
   "source": [
    "### 5. En réutilisant le modèle de word2vec entraîné sur Google News fourni par Gensim, calculer les similarités (cosinus) entre les mots du contexte de la première occurrence (somme(ou moyenne) des vecteurs de chaque mot) et chacune des six définitions. Quel est donc le sens le plus probable ?"
   ]
  },
  {
   "cell_type": "markdown",
   "metadata": {},
   "source": [
    "**Suggestion** : chercher dans la documentation word2vec comment obtenir très facilement la similarité entre deux ensembles de mots."
   ]
  },
  {
   "cell_type": "code",
   "execution_count": 12,
   "metadata": {
    "collapsed": true
   },
   "outputs": [],
   "source": [
    "import numpy\n",
    "import nltk\n",
    "import time\n",
    "from gensim.test.utils import common_texts\n",
    "from gensim.models import Word2Vec\n",
    "from gensim.test.utils import get_tmpfile\n",
    "from gensim.models import KeyedVectors\n",
    "from gensim.test.utils import datapath\n",
    "\n",
    "w2v_vectors = KeyedVectors.load_word2vec_format(\"word2vec-google-news-300.gz\", binary=True)"
   ]
  },
  {
   "cell_type": "code",
   "execution_count": 14,
   "metadata": {},
   "outputs": [
    {
     "name": "stdout",
     "output_type": "stream",
     "text": [
      "Similarité entre la définition 1 et la première occurance de interest : 0.360268771648407\n",
      "Similarité entre la définition 2 et la première occurance de interest : 0.43276697397232056\n",
      "Similarité entre la définition 3 et la première occurance de interest : 0.32915887236595154\n",
      "Similarité entre la définition 4 et la première occurance de interest : 0.4701043963432312\n",
      "Similarité entre la définition 5 et la première occurance de interest : 0.5618512630462646\n",
      "Similarité entre la définition 6 et la première occurance de interest : 0.6260374784469604\n"
     ]
    }
   ],
   "source": [
    "definitions = [definition_1, definition_2, definition_3, definition_4, definition_5, definition_6]\n",
    "\n",
    "i = 1\n",
    "for definition in definitions:\n",
    "    print(\"Similarité entre la définition {} et la première occurance de interest : {}\".format(i,  w2v_vectors.n_similarity(first_occurance, definition)))\n",
    "    i += 1"
   ]
  },
  {
   "cell_type": "markdown",
   "metadata": {},
   "source": [
    "Le sens le plus probable est le 6 ! Youpi, c'est ce que nous voulions !"
   ]
  },
  {
   "cell_type": "markdown",
   "metadata": {},
   "source": [
    "### 6. Approche manuelle : appliquer la procédure précédente à une occurrence de « interest » pour chaque sens possible (six sens, donc six mots). Combien sur les six sont correctement désambiguïsés par l’algorithme de Lesk, et combien par la méthode word2vec ?"
   ]
  },
  {
   "cell_type": "code",
   "execution_count": 15,
   "metadata": {
    "collapsed": true
   },
   "outputs": [],
   "source": [
    "interest_1 = \"the purchases  show  the strong interest_1  of  japanese investors  in  US mortgage-based instruments  ,  fannie mae 's chairman  ,  david maxwell  , said at  a news conference\"\n",
    "\n",
    "interest_2 = \"abc 's baseball experience  may be of  interest_2  to  cbs inc.  ,  which   next season  takes over  the broadcasting  of  all baseball playoffs  in  a four-year television contract  priced at  $ billion  .\"\n",
    "\n",
    "interest_3 = \"blue-chip advertisers  have  plenty  of  complaints  about  the magazines they  advertise in , ranging from  inadequate consumer research  to  ad  clutter and  a  seemingly  unchecked proliferation  of  special interest_3 magazines  .\"\n",
    "\n",
    "interest_4 = \"insofar as  mister  has  a special interest_4  in  nih  and  the institutions   that  receive  its  funding ,  the rockefeller scientists  were  no doubt  discomfited by  doctor baltimore 's unflattering public opinion  of  this congressional patron  ,  whose behavior  reminded  doctor baltimore  of  the mccarthy era  .\"\n",
    "\n",
    "interest_5 = \"the spokesman  refused to comment on  speculation  that  industrial equity  might use  its interest_5  as  a platform  to launch  a hostile bid  for  the company  .\"\n",
    "\n",
    "interest_6 = \"indeed ,  the banker  says , in  the reborn capital structure cash coverage  of  interest_6  will meaningfully improve .\"\n",
    "\n",
    "interests = [interest_1, interest_2, interest_3, interest_4, interest_5, interest_6]"
   ]
  },
  {
   "cell_type": "code",
   "execution_count": 16,
   "metadata": {},
   "outputs": [
    {
     "name": "stdout",
     "output_type": "stream",
     "text": [
      "[nltk_data] Downloading package stopwords to\n",
      "[nltk_data]     C:\\Users\\Nathan\\AppData\\Roaming\\nltk_data...\n",
      "[nltk_data]   Package stopwords is already up-to-date!\n"
     ]
    }
   ],
   "source": [
    "from nltk.corpus import stopwords\n",
    "from nltk.tokenize import word_tokenize\n",
    "nltk.download('stopwords')\n",
    "\n",
    "def remove_stop_words(data):\n",
    "    stopWords = set(stopwords.words('english'))\n",
    "    stopWords.add(',')\n",
    "    stopWords.add('.')\n",
    "    stopWords.add('\\'s')\n",
    "    stopWords.add(' ')\n",
    "    stopWords.add('')\n",
    "    stopWords.add('interest_1')\n",
    "    stopWords.add('interest_2')\n",
    "    stopWords.add('interest_3')\n",
    "    stopWords.add('interest_4')\n",
    "    stopWords.add('interest_5')\n",
    "    stopWords.add('interest_6')\n",
    "    words = word_tokenize(data)\n",
    "    wordsFiltered = []\n",
    "\n",
    "    for w in words:\n",
    "        if w not in stopWords:\n",
    "            wordsFiltered.append(w)\n",
    "    \n",
    "    return wordsFiltered"
   ]
  },
  {
   "cell_type": "code",
   "execution_count": 17,
   "metadata": {
    "scrolled": true
   },
   "outputs": [
    {
     "name": "stdout",
     "output_type": "stream",
     "text": [
      "\n",
      "----------------\n",
      "\n",
      "word2vec : La meilleur similarité(0.48168566823005676) est entre la définition 6 et la première occurance de interest_1\n",
      "Lesk : La meilleur similarité(1) est entre la définition 6 et la première occurance de interest_1\n",
      "\n",
      "----------------\n",
      "\n",
      "word2vec : La meilleur similarité(0.5006052255630493) est entre la définition 6 et la première occurance de interest_2\n",
      "Lesk : La meilleur similarité(0) est entre la définition None et la première occurance de interest_2\n",
      "\n",
      "----------------\n",
      "\n",
      "word2vec : La meilleur similarité(0.4979081153869629) est entre la définition 6 et la première occurance de interest_3\n",
      "Lesk : La meilleur similarité(0) est entre la définition None et la première occurance de interest_3\n",
      "\n",
      "----------------\n",
      "\n",
      "word2vec : La meilleur similarité(0.5013031363487244) est entre la définition 1 et la première occurance de interest_4\n",
      "Lesk : La meilleur similarité(0) est entre la définition None et la première occurance de interest_4\n",
      "\n",
      "----------------\n",
      "\n",
      "word2vec : La meilleur similarité(0.5812490582466125) est entre la définition 5 et la première occurance de interest_5\n",
      "Lesk : La meilleur similarité(1) est entre la définition 5 et la première occurance de interest_5\n",
      "\n",
      "----------------\n",
      "\n",
      "word2vec : La meilleur similarité(0.5807451605796814) est entre la définition 5 et la première occurance de interest_6\n",
      "Lesk : La meilleur similarité(0) est entre la définition None et la première occurance de interest_6\n"
     ]
    }
   ],
   "source": [
    "definitions = [definition_1, definition_2, definition_3, definition_4, definition_5, definition_6]\n",
    "\n",
    "i = 1\n",
    "for interest in interests:\n",
    "    print(\"\\n----------------\\n\")\n",
    "    \n",
    "    interest = interest.replace('-', ' ')\n",
    "    interest = remove_stop_words(interest)\n",
    "    wv_biggest_similarity = 0\n",
    "    wv_bestest_definition = None\n",
    "    \n",
    "    lesk_biggest_similarity = 0\n",
    "    lesk_bestest_definition = None\n",
    "    \n",
    "    j = 1\n",
    "    for definition in definitions:\n",
    "        wv_current_similarity = w2v_vectors.n_similarity(interest, definition)\n",
    "        lesk_current_similarity = scoring(interest, definition)\n",
    "        \n",
    "        if lesk_biggest_similarity < lesk_current_similarity:\n",
    "            lesk_biggest_similarity = lesk_current_similarity\n",
    "            lesk_bestest_definition = j\n",
    "        \n",
    "        if wv_biggest_similarity < wv_current_similarity:\n",
    "            wv_biggest_similarity = wv_current_similarity\n",
    "            wv_bestest_definition = j\n",
    "        j += 1\n",
    "    print(\"word2vec : La meilleur similarité({}) est entre la définition {} et la première occurance de interest_{}\".format(wv_biggest_similarity, wv_bestest_definition, i))\n",
    "    print(\"Lesk : La meilleur similarité({}) est entre la définition {} et la première occurance de interest_{}\".format(lesk_biggest_similarity, lesk_bestest_definition, i))\n",
    "    i += 1"
   ]
  },
  {
   "cell_type": "markdown",
   "metadata": {},
   "source": [
    "### 7. Approche automatique : implémenter un court programme qui applique la méthode décrite ci-dessus à chacune des 2'369 occurrences de « interest » dans le corpus du test."
   ]
  },
  {
   "cell_type": "markdown",
   "metadata": {},
   "source": [
    "Il faut donc : extraire les mots voisins de chaque occurrence, compter le nombre de mots en commun avec chaque définition, et choisir le sens qui maximise ce nombre (Lesk) ; également, calculer la similarité word2vec entre le contexte et chaque définition, et choisir le sens qui la maximise."
   ]
  },
  {
   "cell_type": "code",
   "execution_count": 9,
   "metadata": {},
   "outputs": [],
   "source": [
    "filepath = 'data/interest-original.txt' \n",
    "\n",
    "try:  \n",
    "    fp = open(filepath, 'r',encoding=\"utf-8\")\n",
    "    raw_sentences = fp.read().replace('=', '')\n",
    "    raw_sentences = raw_sentences.split('\\n$$\\n')\n",
    "finally:  \n",
    "    fp.close()\n",
    "    \n",
    "for sentence in raw_sentences:\n",
    "    sentence = sentence.replace('-', ' ')\n",
    "    sentence = remove_stop_words(sentence)\n",
    "    \n",
    "    wv_biggest_similarity = 0\n",
    "    wv_bestest_definition = None\n",
    "    \n",
    "    j = 1\n",
    "    for definition in definitions:\n",
    "        wv_current_similarity = w2v_vectors.n_similarity(interest, definition)\n",
    "        \n",
    "        if wv_biggest_similarity < wv_current_similarity:\n",
    "            wv_biggest_similarity = wv_current_similarity\n",
    "            wv_bestest_definition = j\n",
    "        j += 1\n",
    "    i += 1"
   ]
  },
  {
   "cell_type": "markdown",
   "metadata": {},
   "source": [
    "Quelles sont les proportions respectives de bonnes réponses de Lesk et de word2vec ?\n",
    "Pouvez-vous les calculer également pour chaque catégorie ?"
   ]
  },
  {
   "cell_type": "markdown",
   "metadata": {},
   "source": [
    "### 8. Comment se comparent vos scores avec ceux publiés dans l’article de Pedersen (2000) disponible ici : http://www.aclweb.org/anthology/A00-2009 ?"
   ]
  },
  {
   "cell_type": "markdown",
   "metadata": {},
   "source": [
    "|                         | accuracy | method           | feature set                |\n",
    "|-------------------------|:--------:|------------------|----------------------------|\n",
    "| Naive Bayesian Ensemble | 89%      | ensemble of 9    | varying left & right b-o-w |\n",
    "| Ng & Lee, 1996          | 87%      | nearest neighbor | p-o-s, morph, co-occur     |\n",
    "|                         |          |                  | collocates, verb-obj       |\n",
    "| Bruce & Wiebe, 1994     | 78%      | model selection  | p-o-s, morph, co-occur     |\n",
    "| Pedersen & Bruce, 1997  | 78%      | decision tree    | p-o-s, morph, co-occur     |\n",
    "|                         | 74%      | naive bayes      |                            |\n",
    "\n",
    "|                                   | accuracy | method        | feature set                   |\n",
    "|-----------------------------------|:--------:|---------------|-------------------------------|\n",
    "| Naive Bayesian Ensemble           | 88%      | ensemble of 9 | varying left & right b-o-w    |\n",
    "| Towell & Voorhess, 1998           | 87%      | neural net    | local & topical b-o-w, p.-o-s |\n",
    "| Leacock, Chodor0w, & Miller, 1998 | 84%      | naive baye    | local & topical b-o-w, p-o-s  |\n",
    "| Leacock, Towell, & Voorhees, 1993 | 76%      | neural net    | 2 sentence b-o-w              |\n",
    "|                                   | 72%      | content vector|                               |\n",
    "|                                   | 71%      | naive bayes   |                               |\n",
    "| Mooney, 1996                      | 72%      | naive bayes   | 2 sentence b-o-w              |\n",
    "|                                   | 71%      | perceptron    |                               |"
   ]
  },
  {
   "cell_type": "markdown",
   "metadata": {},
   "source": []
  },
  {
   "cell_type": "markdown",
   "metadata": {},
   "source": []
  },
  {
   "cell_type": "markdown",
   "metadata": {},
   "source": [
    "Merci d’envoyer votre notebook Jupyter par email au professeur et à l’assistant, avant le vendredi 17 mai à 23h59."
   ]
  },
  {
   "cell_type": "code",
   "execution_count": null,
   "metadata": {
    "collapsed": true
   },
   "outputs": [],
   "source": []
  }
 ],
 "metadata": {
  "kernelspec": {
   "display_name": "Python 3",
   "language": "python",
   "name": "python3"
  },
  "language_info": {
   "codemirror_mode": {
    "name": "ipython",
    "version": 3
   },
   "file_extension": ".py",
   "mimetype": "text/x-python",
   "name": "python",
   "nbconvert_exporter": "python",
   "pygments_lexer": "ipython3",
   "version": "3.6.3"
  }
 },
 "nbformat": 4,
 "nbformat_minor": 2
}
